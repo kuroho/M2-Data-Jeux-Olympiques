{
 "cells": [
  {
   "cell_type": "code",
   "execution_count": 136,
   "id": "ee9792b0-2938-4d9b-a6b9-ca2709420418",
   "metadata": {},
   "outputs": [
    {
     "data": {
      "text/plain": [
       "(271116, 15)"
      ]
     },
     "execution_count": 136,
     "metadata": {},
     "output_type": "execute_result"
    }
   ],
   "source": [
    "import pandas as pd\n",
    "import seaborn as sns\n",
    "import numpy as np\n",
    "\n",
    "df = pd.read_csv('athlete_events.csv')\n",
    "df.shape"
   ]
  },
  {
   "cell_type": "code",
   "execution_count": 2,
   "id": "2e20e06b-33f6-44ec-b7c9-1062136d7333",
   "metadata": {},
   "outputs": [
    {
     "data": {
      "text/plain": [
       "['ID',\n",
       " 'Name',\n",
       " 'Sex',\n",
       " 'Age',\n",
       " 'Height',\n",
       " 'Weight',\n",
       " 'Team',\n",
       " 'NOC',\n",
       " 'Games',\n",
       " 'Year',\n",
       " 'Season',\n",
       " 'City',\n",
       " 'Sport',\n",
       " 'Event',\n",
       " 'Medal']"
      ]
     },
     "execution_count": 2,
     "metadata": {},
     "output_type": "execute_result"
    }
   ],
   "source": [
    "list(df)"
   ]
  },
  {
   "cell_type": "code",
   "execution_count": 3,
   "id": "0f094132-bdc3-490a-9756-629435233a2b",
   "metadata": {},
   "outputs": [
    {
     "name": "stdout",
     "output_type": "stream",
     "text": [
      "ID: 0.0%\n",
      "Name: 0.0%\n",
      "Sex: 0.0%\n",
      "Age: 3.49%\n",
      "Height: 22.19%\n",
      "Weight: 23.19%\n",
      "Team: 0.0%\n",
      "NOC: 0.0%\n",
      "Games: 0.0%\n",
      "Year: 0.0%\n",
      "Season: 0.0%\n",
      "City: 0.0%\n",
      "Sport: 0.0%\n",
      "Event: 0.0%\n",
      "Medal: 85.33%\n"
     ]
    }
   ],
   "source": [
    "#Renvoie le pourcentage des valeurs incomplètes\n",
    "def NaN_percent(df, column_name) :\n",
    "    row_count = df[column_name].shape[0]\n",
    "    empty_values = row_count - df[column_name].count()\n",
    "    return (100.0*empty_values)/row_count\n",
    "for i in list(df):\n",
    "    print(i + \": \" + str(round(NaN_percent(df,i),2))+\"%\")"
   ]
  },
  {
   "cell_type": "code",
   "execution_count": 4,
   "id": "6ed553c1-acaf-43e3-9dc1-d2ef1003290b",
   "metadata": {},
   "outputs": [
    {
     "name": "stdout",
     "output_type": "stream",
     "text": [
      "Nombre participations :  271116 \n",
      "Nombre athletes :  134732 \n",
      "Nombre moyen de participations par athlètes :  2.0 \n",
      "Nombre athletes medaillés :  28202 \n",
      "Ratio athletes medaillés sur total athlètes :  20.9 %\n"
     ]
    }
   ],
   "source": [
    "nb_rows = df.shape[0]\n",
    "nb_athlete = len(df.Name.unique())\n",
    "part_p_athl = round(nb_rows/nb_athlete, 1)\n",
    "nb_medailles = len(df[df.Medal.fillna(\"None\") != \"None\"].Name.unique())\n",
    "ratio_athl_med = round((nb_medailles/nb_athlete)*100, 1)\n",
    "\n",
    "print(\"Nombre participations : \", nb_rows,\n",
    "      \"\\nNombre athletes : \", nb_athlete,\n",
    "      \"\\nNombre moyen de participations par athlètes : \", part_p_athl,\n",
    "      \"\\nNombre athletes medaillés : \", nb_medailles,\n",
    "      \"\\nRatio athletes medaillés sur total athlètes : \", ratio_athl_med, \"%\")"
   ]
  },
  {
   "cell_type": "code",
   "execution_count": 27,
   "id": "c8887ccf-0a1f-4d02-8456-2d3113389df1",
   "metadata": {},
   "outputs": [
    {
     "data": {
      "text/html": [
       "<div>\n",
       "<style scoped>\n",
       "    .dataframe tbody tr th:only-of-type {\n",
       "        vertical-align: middle;\n",
       "    }\n",
       "\n",
       "    .dataframe tbody tr th {\n",
       "        vertical-align: top;\n",
       "    }\n",
       "\n",
       "    .dataframe thead th {\n",
       "        text-align: right;\n",
       "    }\n",
       "</style>\n",
       "<table border=\"1\" class=\"dataframe\">\n",
       "  <thead>\n",
       "    <tr style=\"text-align: right;\">\n",
       "      <th></th>\n",
       "      <th>Team</th>\n",
       "      <th>Medal</th>\n",
       "      <th>count</th>\n",
       "    </tr>\n",
       "  </thead>\n",
       "  <tbody>\n",
       "    <tr>\n",
       "      <th>726</th>\n",
       "      <td>United States</td>\n",
       "      <td>Gold</td>\n",
       "      <td>2474</td>\n",
       "    </tr>\n",
       "    <tr>\n",
       "      <th>727</th>\n",
       "      <td>United States</td>\n",
       "      <td>Silver</td>\n",
       "      <td>1512</td>\n",
       "    </tr>\n",
       "    <tr>\n",
       "      <th>725</th>\n",
       "      <td>United States</td>\n",
       "      <td>Bronze</td>\n",
       "      <td>1233</td>\n",
       "    </tr>\n",
       "    <tr>\n",
       "      <th>627</th>\n",
       "      <td>Soviet Union</td>\n",
       "      <td>Gold</td>\n",
       "      <td>1058</td>\n",
       "    </tr>\n",
       "    <tr>\n",
       "      <th>628</th>\n",
       "      <td>Soviet Union</td>\n",
       "      <td>Silver</td>\n",
       "      <td>716</td>\n",
       "    </tr>\n",
       "    <tr>\n",
       "      <th>263</th>\n",
       "      <td>Germany</td>\n",
       "      <td>Gold</td>\n",
       "      <td>679</td>\n",
       "    </tr>\n",
       "    <tr>\n",
       "      <th>262</th>\n",
       "      <td>Germany</td>\n",
       "      <td>Bronze</td>\n",
       "      <td>678</td>\n",
       "    </tr>\n",
       "    <tr>\n",
       "      <th>626</th>\n",
       "      <td>Soviet Union</td>\n",
       "      <td>Bronze</td>\n",
       "      <td>677</td>\n",
       "    </tr>\n",
       "    <tr>\n",
       "      <th>264</th>\n",
       "      <td>Germany</td>\n",
       "      <td>Silver</td>\n",
       "      <td>627</td>\n",
       "    </tr>\n",
       "    <tr>\n",
       "      <th>278</th>\n",
       "      <td>Great Britain</td>\n",
       "      <td>Silver</td>\n",
       "      <td>582</td>\n",
       "    </tr>\n",
       "  </tbody>\n",
       "</table>\n",
       "</div>"
      ],
      "text/plain": [
       "              Team   Medal  count\n",
       "726  United States    Gold   2474\n",
       "727  United States  Silver   1512\n",
       "725  United States  Bronze   1233\n",
       "627   Soviet Union    Gold   1058\n",
       "628   Soviet Union  Silver    716\n",
       "263        Germany    Gold    679\n",
       "262        Germany  Bronze    678\n",
       "626   Soviet Union  Bronze    677\n",
       "264        Germany  Silver    627\n",
       "278  Great Britain  Silver    582"
      ]
     },
     "execution_count": 27,
     "metadata": {},
     "output_type": "execute_result"
    }
   ],
   "source": [
    "medailles_par_equipe = df.groupby(['Team','Medal']).Medal.agg('count')\n",
    "#trier par quantité\n",
    "medailles_par_equipe = medailles_par_equipe.reset_index(name='count').sort_values(['count'], ascending=False)\n",
    "medailles_par_equipe.head(10)"
   ]
  },
  {
   "cell_type": "code",
   "execution_count": 6,
   "id": "c9686a03-2133-4ea9-918a-bd35f71f765d",
   "metadata": {},
   "outputs": [
    {
     "data": {
      "image/png": "[encoded data removed]",
      "text/plain": [
       "<Figure size 430.375x360 with 1 Axes>"
      ]
     },
     "metadata": {
      "needs_background": "light"
     },
     "output_type": "display_data"
    }
   ],
   "source": [
    "stats_france = medailles_par_equipe[medailles_par_equipe.Team==\"France\"]\n",
    "\n",
    "g = sns.catplot(\n",
    "    data=stats_france, kind=\"bar\", hue=\"Medal\",\n",
    "    x=\"Team\", y=\"count\", palette=\"flare\"\n",
    ")\n",
    "g.set_axis_labels(\"Nombre de médailles\", \"Pays\")\n",
    "ax = g.facet_axis(0, 0)\n",
    "\n",
    "for c in ax.containers:\n",
    "    labels = [f'{(v.get_height())}' for v in c]\n",
    "    ax.bar_label(c, labels=labels, label_type='edge')"
   ]
  },
  {
   "cell_type": "code",
   "execution_count": 7,
   "id": "ebb1665e-b01d-4b50-982b-3f45e44792db",
   "metadata": {},
   "outputs": [
    {
     "name": "stdout",
     "output_type": "stream",
     "text": [
      "nombre athlètes femme : 33808\n",
      "médailles obtenues femme : 11253\n",
      "nombre athlètes homme : 100979\n",
      "médailles obtenues homme : 28530\n",
      "Depuis l'année : \n"
     ]
    },
    {
     "data": {
      "text/plain": [
       "1900"
      ]
     },
     "execution_count": 7,
     "metadata": {},
     "output_type": "execute_result"
    }
   ],
   "source": [
    "nb_femme = len(df[df.Sex==\"F\"].Name.unique())\n",
    "nb_homme = len(df[df.Sex==\"M\"].Name.unique())\n",
    "medailles_femme = df[df.Sex==\"F\"].Medal.count()\n",
    "medailles_hommes = df[df.Sex==\"M\"].Medal.count()\n",
    "\n",
    "print(\"nombre athlètes femme : {}\".format(nb_femme))\n",
    "print(\"médailles obtenues femme : {}\".format(medailles_femme))\n",
    "print(\"nombre athlètes homme : {}\".format(nb_homme))\n",
    "print(\"médailles obtenues homme : {}\".format(medailles_hommes))\n",
    "print(\"Depuis l'année : \")\n",
    "df[df.Sex==\"F\"].Year.min()"
   ]
  },
  {
   "cell_type": "code",
   "execution_count": 8,
   "id": "99ce9291-9f4c-4cab-9b73-3bc8aac358d7",
   "metadata": {},
   "outputs": [
    {
     "data": {
      "text/plain": [
       "(<AxesSubplot:xlabel='Year', ylabel='Name'>,\n",
       " <AxesSubplot:xlabel='Year', ylabel='Name'>)"
      ]
     },
     "execution_count": 8,
     "metadata": {},
     "output_type": "execute_result"
    },
    {
     "data": {
      "image/png": "[encoded data removed]",
      "text/plain": [
       "<Figure size 432x288 with 1 Axes>"
      ]
     },
     "metadata": {
      "needs_background": "light"
     },
     "output_type": "display_data"
    }
   ],
   "source": [
    "nb_femme_per_year = df[df.Sex==\"F\"].groupby(\"Year\").agg(\"count\").Name\n",
    "nb_homme_per_year = df[df.Sex==\"M\"].groupby(\"Year\").agg(\"count\").Name\n",
    "(sns.scatterplot(data=nb_homme_per_year),sns.scatterplot(data=nb_femme_per_year))"
   ]
  },
  {
   "cell_type": "code",
   "execution_count": 9,
   "id": "d5050cc1-e209-4867-897d-1cf118a47842",
   "metadata": {},
   "outputs": [],
   "source": [
    "hommes = df[df.Sex=='M']\n",
    "poids_taille_par_sport_hommes = hommes.groupby(['Sport'])[['Weight','Height']].agg(['min','max','mean'])"
   ]
  },
  {
   "cell_type": "code",
   "execution_count": 10,
   "id": "5a964b72-9c81-4e96-af15-31b7c967e127",
   "metadata": {},
   "outputs": [
    {
     "data": {
      "text/html": [
       "<div>\n",
       "<style scoped>\n",
       "    .dataframe tbody tr th:only-of-type {\n",
       "        vertical-align: middle;\n",
       "    }\n",
       "\n",
       "    .dataframe tbody tr th {\n",
       "        vertical-align: top;\n",
       "    }\n",
       "\n",
       "    .dataframe thead th {\n",
       "        text-align: right;\n",
       "    }\n",
       "</style>\n",
       "<table border=\"1\" class=\"dataframe\">\n",
       "  <thead>\n",
       "    <tr style=\"text-align: right;\">\n",
       "      <th></th>\n",
       "      <th>min</th>\n",
       "      <th>max</th>\n",
       "      <th>mean</th>\n",
       "    </tr>\n",
       "    <tr>\n",
       "      <th>Sport</th>\n",
       "      <th></th>\n",
       "      <th></th>\n",
       "      <th></th>\n",
       "    </tr>\n",
       "  </thead>\n",
       "  <tbody>\n",
       "    <tr>\n",
       "      <th>Tug-Of-War</th>\n",
       "      <td>75.0</td>\n",
       "      <td>118.0</td>\n",
       "      <td>95.615385</td>\n",
       "    </tr>\n",
       "    <tr>\n",
       "      <th>Basketball</th>\n",
       "      <td>59.0</td>\n",
       "      <td>156.0</td>\n",
       "      <td>91.683529</td>\n",
       "    </tr>\n",
       "    <tr>\n",
       "      <th>Rugby Sevens</th>\n",
       "      <td>65.0</td>\n",
       "      <td>113.0</td>\n",
       "      <td>91.006623</td>\n",
       "    </tr>\n",
       "    <tr>\n",
       "      <th>Bobsleigh</th>\n",
       "      <td>55.0</td>\n",
       "      <td>145.0</td>\n",
       "      <td>90.387385</td>\n",
       "    </tr>\n",
       "    <tr>\n",
       "      <th>Beach Volleyball</th>\n",
       "      <td>62.0</td>\n",
       "      <td>110.0</td>\n",
       "      <td>89.512821</td>\n",
       "    </tr>\n",
       "  </tbody>\n",
       "</table>\n",
       "</div>"
      ],
      "text/plain": [
       "                   min    max       mean\n",
       "Sport                                   \n",
       "Tug-Of-War        75.0  118.0  95.615385\n",
       "Basketball        59.0  156.0  91.683529\n",
       "Rugby Sevens      65.0  113.0  91.006623\n",
       "Bobsleigh         55.0  145.0  90.387385\n",
       "Beach Volleyball  62.0  110.0  89.512821"
      ]
     },
     "execution_count": 10,
     "metadata": {},
     "output_type": "execute_result"
    }
   ],
   "source": [
    "poids_taille_par_sport_hommes.Weight.dropna().sort_values('mean', ascending=False)[:5]"
   ]
  },
  {
   "cell_type": "code",
   "execution_count": 11,
   "id": "45edff33-a192-4b6c-b52e-85658aa22f58",
   "metadata": {},
   "outputs": [],
   "source": [
    "poids_taille_par_sport = hommes.groupby(['Sport'])[['Weight','Height']].agg(['min','max','mean'])\n"
   ]
  },
  {
   "cell_type": "code",
   "execution_count": 12,
   "id": "f909fe95-6278-49ed-9549-d31fc1bf1ff3",
   "metadata": {},
   "outputs": [
    {
     "name": "stdout",
     "output_type": "stream",
     "text": [
      "                 Weight                   Height                   \n",
      "                    min    max       mean    min    max        mean\n",
      "Sport                                                              \n",
      "Aeronautics         NaN    NaN        NaN    NaN    NaN         NaN\n",
      "Alpine Skiing      50.0  107.0  78.626035  142.0  200.0  177.891374\n",
      "Alpinism            NaN    NaN        NaN    NaN    NaN         NaN\n",
      "Archery            46.0  130.0  77.066866  157.0  197.0  178.477842\n",
      "Art Competitions   59.0   93.0  75.290909  150.0  190.0  174.896552\n",
      "...                 ...    ...        ...    ...    ...         ...\n",
      "Tug-Of-War         75.0  118.0  95.615385  170.0  195.0  182.480000\n",
      "Volleyball         56.0  120.0  86.925926  170.0  219.0  193.265660\n",
      "Water Polo         61.0  125.0  87.706172  154.0  206.0  186.801739\n",
      "Weightlifting      50.0  176.5  80.251796  140.0  205.0  169.153061\n",
      "Wrestling          47.0  190.0  76.400640  137.0  214.0  172.870686\n",
      "\n",
      "[63 rows x 6 columns]\n"
     ]
    }
   ],
   "source": [
    "poids_taille_par_sport.Weight.dropna().sort_values('mean', ascending=True)[:5]\n",
    "print(poids_taille_par_sport)\n",
    "#sns.relplot(data=\"poids_taille_par_sport\"\n",
    " #           x=\"horsepower\", y=\"mpg\", hue=\"origin\", size=\"weight\",\n",
    " #           sizes=(40, 400), alpha=.5, palette=\"muted\",\n",
    "  #          height=6, data=mpg)"
   ]
  },
  {
   "cell_type": "code",
   "execution_count": 13,
   "id": "117b6a93-7617-4a6d-95c0-143dd46b05ed",
   "metadata": {},
   "outputs": [
    {
     "name": "stdout",
     "output_type": "stream",
     "text": [
      "Gold      13372\n",
      "Bronze    13295\n",
      "Silver    13116\n",
      "Name: Medal, dtype: int64\n",
      "Nombre de médailles distribués :  39783\n"
     ]
    }
   ],
   "source": [
    "print(df[df.Medal.fillna(\"None\") != \"None\"].Medal.value_counts())\n",
    "nb_medailles = df[df.Medal.fillna(\"None\") != \"None\"].shape[0]\n",
    "print(\"Nombre de médailles distribués : \",nb_medailles)"
   ]
  },
  {
   "cell_type": "code",
   "execution_count": 14,
   "id": "9f7a5f80-9434-449a-9e1d-9d734bbf0a83",
   "metadata": {},
   "outputs": [
    {
     "data": {
      "text/plain": [
       "<seaborn.axisgrid.FacetGrid at 0x20592a272e0>"
      ]
     },
     "execution_count": 14,
     "metadata": {},
     "output_type": "execute_result"
    },
    {
     "data": {
      "image/png": "[encoded data removed]",
      "text/plain": [
       "<Figure size 430.375x360 with 1 Axes>"
      ]
     },
     "metadata": {
      "needs_background": "light"
     },
     "output_type": "display_data"
    }
   ],
   "source": [
    "medailles_par_equipe = df.groupby(['Team','Medal']).Medal.agg('count')\n",
    "medailles_par_equipe = medailles_par_equipe.reset_index(name='count').sort_values(['count'], ascending=False).head(23) \n",
    "\n",
    "g = sns.catplot(\n",
    "    data=medailles_par_equipe, kind=\"bar\", hue=\"Medal\",\n",
    "    y=\"Team\", x=\"count\", palette=\"flare\"\n",
    ")\n",
    "g.set_axis_labels(\"Nombre de médailles\", \"Pays\")"
   ]
  },
  {
   "cell_type": "code",
   "execution_count": 15,
   "id": "91554dba-af3e-48d0-b5c5-15b937d99382",
   "metadata": {},
   "outputs": [
    {
     "name": "stdout",
     "output_type": "stream",
     "text": [
      "Nombre de médailles distribués :  39783\n",
      "Nombre de médailles par athlète :  1.0\n"
     ]
    },
    {
     "data": {
      "image/png": "[encoded data removed]",
      "text/plain": [
       "<Figure size 432x288 with 1 Axes>"
      ]
     },
     "metadata": {
      "needs_background": "light"
     },
     "output_type": "display_data"
    }
   ],
   "source": [
    "medals_type = df[df.Medal.fillna(\"None\") != \"None\"].Medal.value_counts()\n",
    "medals_type = medals_type.reset_index(name='count').sort_values(['count'], ascending=False) \n",
    "\n",
    "ax = sns.barplot(\n",
    "    data=medals_type,\n",
    "    x=\"index\", y=\"count\", palette=\"flare\"\n",
    ")\n",
    "\n",
    "for container in ax.containers:\n",
    "    ax.bar_label(container)\n",
    "\n",
    "nb_medailles_dist = df[df.Medal.fillna(\"None\") != \"None\"].shape[0]\n",
    "print(\"Nombre de médailles distribués : \",nb_medailles_dist)\n",
    "print(\"Nombre de médailles par athlète : \", round(nb_medailles_dist/nb_medailles,2))"
   ]
  },
  {
   "cell_type": "code",
   "execution_count": 16,
   "id": "f5336a55-03e5-43c6-81db-bfbe476168c1",
   "metadata": {},
   "outputs": [],
   "source": [
    "femmes = df[df.Sex=='F']\n",
    "poids_taille_par_sport_femmes = femmes.groupby(['Sport'])[['Weight','Height']].agg(['min','max','mean'])"
   ]
  },
  {
   "cell_type": "code",
   "execution_count": 17,
   "id": "f5f2bd92-fbb2-479c-beb7-86625332c64f",
   "metadata": {},
   "outputs": [
    {
     "data": {
      "text/html": [
       "<div>\n",
       "<style scoped>\n",
       "    .dataframe tbody tr th:only-of-type {\n",
       "        vertical-align: middle;\n",
       "    }\n",
       "\n",
       "    .dataframe tbody tr th {\n",
       "        vertical-align: top;\n",
       "    }\n",
       "\n",
       "    .dataframe thead th {\n",
       "        text-align: right;\n",
       "    }\n",
       "</style>\n",
       "<table border=\"1\" class=\"dataframe\">\n",
       "  <thead>\n",
       "    <tr style=\"text-align: right;\">\n",
       "      <th></th>\n",
       "      <th>min</th>\n",
       "      <th>max</th>\n",
       "      <th>mean</th>\n",
       "    </tr>\n",
       "    <tr>\n",
       "      <th>Sport</th>\n",
       "      <th></th>\n",
       "      <th></th>\n",
       "      <th></th>\n",
       "    </tr>\n",
       "  </thead>\n",
       "  <tbody>\n",
       "    <tr>\n",
       "      <th>Basketball</th>\n",
       "      <td>50.0</td>\n",
       "      <td>128.0</td>\n",
       "      <td>73.685170</td>\n",
       "    </tr>\n",
       "    <tr>\n",
       "      <th>Bobsleigh</th>\n",
       "      <td>55.0</td>\n",
       "      <td>95.0</td>\n",
       "      <td>72.804196</td>\n",
       "    </tr>\n",
       "    <tr>\n",
       "      <th>Water Polo</th>\n",
       "      <td>50.0</td>\n",
       "      <td>104.0</td>\n",
       "      <td>70.180328</td>\n",
       "    </tr>\n",
       "    <tr>\n",
       "      <th>Rowing</th>\n",
       "      <td>39.0</td>\n",
       "      <td>97.0</td>\n",
       "      <td>70.102214</td>\n",
       "    </tr>\n",
       "    <tr>\n",
       "      <th>Volleyball</th>\n",
       "      <td>30.0</td>\n",
       "      <td>98.0</td>\n",
       "      <td>69.333779</td>\n",
       "    </tr>\n",
       "  </tbody>\n",
       "</table>\n",
       "</div>"
      ],
      "text/plain": [
       "             min    max       mean\n",
       "Sport                             \n",
       "Basketball  50.0  128.0  73.685170\n",
       "Bobsleigh   55.0   95.0  72.804196\n",
       "Water Polo  50.0  104.0  70.180328\n",
       "Rowing      39.0   97.0  70.102214\n",
       "Volleyball  30.0   98.0  69.333779"
      ]
     },
     "execution_count": 17,
     "metadata": {},
     "output_type": "execute_result"
    }
   ],
   "source": [
    "poids_taille_par_sport_femmes.Weight.dropna().sort_values('mean', ascending=False)[:5]"
   ]
  },
  {
   "cell_type": "code",
   "execution_count": 18,
   "id": "24704b9b-0672-4980-93f8-ec5b28766a96",
   "metadata": {},
   "outputs": [
    {
     "data": {
      "text/html": [
       "<div>\n",
       "<style scoped>\n",
       "    .dataframe tbody tr th:only-of-type {\n",
       "        vertical-align: middle;\n",
       "    }\n",
       "\n",
       "    .dataframe tbody tr th {\n",
       "        vertical-align: top;\n",
       "    }\n",
       "\n",
       "    .dataframe thead th {\n",
       "        text-align: right;\n",
       "    }\n",
       "</style>\n",
       "<table border=\"1\" class=\"dataframe\">\n",
       "  <thead>\n",
       "    <tr style=\"text-align: right;\">\n",
       "      <th></th>\n",
       "      <th>min</th>\n",
       "      <th>max</th>\n",
       "      <th>mean</th>\n",
       "    </tr>\n",
       "    <tr>\n",
       "      <th>Sport</th>\n",
       "      <th></th>\n",
       "      <th></th>\n",
       "      <th></th>\n",
       "    </tr>\n",
       "  </thead>\n",
       "  <tbody>\n",
       "    <tr>\n",
       "      <th>Gymnastics</th>\n",
       "      <td>25.0</td>\n",
       "      <td>72.0</td>\n",
       "      <td>47.791276</td>\n",
       "    </tr>\n",
       "    <tr>\n",
       "      <th>Rhythmic Gymnastics</th>\n",
       "      <td>30.0</td>\n",
       "      <td>64.0</td>\n",
       "      <td>48.760976</td>\n",
       "    </tr>\n",
       "    <tr>\n",
       "      <th>Figure Skating</th>\n",
       "      <td>32.0</td>\n",
       "      <td>68.0</td>\n",
       "      <td>49.861039</td>\n",
       "    </tr>\n",
       "    <tr>\n",
       "      <th>Ski Jumping</th>\n",
       "      <td>43.0</td>\n",
       "      <td>62.0</td>\n",
       "      <td>52.615385</td>\n",
       "    </tr>\n",
       "    <tr>\n",
       "      <th>Trampolining</th>\n",
       "      <td>43.0</td>\n",
       "      <td>60.0</td>\n",
       "      <td>52.893333</td>\n",
       "    </tr>\n",
       "  </tbody>\n",
       "</table>\n",
       "</div>"
      ],
      "text/plain": [
       "                      min   max       mean\n",
       "Sport                                     \n",
       "Gymnastics           25.0  72.0  47.791276\n",
       "Rhythmic Gymnastics  30.0  64.0  48.760976\n",
       "Figure Skating       32.0  68.0  49.861039\n",
       "Ski Jumping          43.0  62.0  52.615385\n",
       "Trampolining         43.0  60.0  52.893333"
      ]
     },
     "execution_count": 18,
     "metadata": {},
     "output_type": "execute_result"
    }
   ],
   "source": [
    "poids_taille_par_sport_femmes.Weight.dropna().sort_values('mean', ascending=True)[:5]"
   ]
  },
  {
   "cell_type": "code",
   "execution_count": 19,
   "id": "9ab2d97f-8f62-4915-b85d-9fac533e2b81",
   "metadata": {},
   "outputs": [],
   "source": [
    "femmes_uniques = femmes[femmes.Medal.fillna(\"None\") != \"None\"].drop_duplicates(subset = [\"Name\"])\n",
    "\n",
    "femmes_uniques = femmes_uniques.Height.dropna()\n"
   ]
  },
  {
   "cell_type": "code",
   "execution_count": 22,
   "id": "a330f388-492b-404f-b544-0d121550ae9e",
   "metadata": {},
   "outputs": [
    {
     "name": "stdout",
     "output_type": "stream",
     "text": [
      "NOC  Year\n",
      "AHO  1988      3\n",
      "     1992      2\n",
      "ALB  2006      3\n",
      "     2010      2\n",
      "     2014      2\n",
      "            ... \n",
      "YUG  1980     27\n",
      "     1984    115\n",
      "     1988     49\n",
      "     1992     60\n",
      "ZIM  2014      2\n",
      "Name: NOC, Length: 1027, dtype: int64\n"
     ]
    }
   ],
   "source": [
    "hiver = df[df.Season==\"Winter\"]\n",
    "\n",
    "hiver_pays = hiver.groupby([\"NOC\",\"Year\"]).NOC.agg(\"count\")\n",
    "print(hiver_pays)"
   ]
  },
  {
   "cell_type": "code",
   "execution_count": 23,
   "id": "865ce8b6-c357-4e57-a018-47ba16588f5e",
   "metadata": {},
   "outputs": [
    {
     "name": "stdout",
     "output_type": "stream",
     "text": [
      "       NOC  Year   Medal                                          Event  count\n",
      "0      AFG  2008  Bronze                      Taekwondo Men's Flyweight      1\n",
      "1      AFG  2012  Bronze                  Taekwondo Men's Featherweight      1\n",
      "2      AHO  1988  Silver                       Sailing Mixed Windsurfer      1\n",
      "3      ALG  1984  Bronze                 Boxing Men's Light-Heavyweight      1\n",
      "4      ALG  1984  Bronze                      Boxing Men's Middleweight      1\n",
      "...    ...   ...     ...                                            ...    ...\n",
      "16047  ZIM  2004  Silver         Swimming Women's 100 metres Backstroke      1\n",
      "16048  ZIM  2008    Gold         Swimming Women's 200 metres Backstroke      1\n",
      "16049  ZIM  2008  Silver         Swimming Women's 100 metres Backstroke      1\n",
      "16050  ZIM  2008  Silver  Swimming Women's 200 metres Individual Medley      1\n",
      "16051  ZIM  2008  Silver  Swimming Women's 400 metres Individual Medley      1\n",
      "\n",
      "[16052 rows x 5 columns]\n"
     ]
    }
   ],
   "source": [
    "ete = df[df.Season==\"Summer\"]\n",
    "\n",
    "ete_pays = ete.groupby([\"NOC\",\"Year\",\"Medal\",\"Event\"]).NOC.agg(\"count\")\n",
    "ete_pays = ete_pays.reset_index(name='count')\n",
    "print(ete_pays)"
   ]
  },
  {
   "cell_type": "code",
   "execution_count": 138,
   "id": "eabe8de6-3045-4804-a4eb-97ce0995b0db",
   "metadata": {},
   "outputs": [
    {
     "name": "stdout",
     "output_type": "stream",
     "text": [
      "     NOC    ID  Games  Medal\n",
      "0    AFG   126     14      2\n",
      "1    AHO    74     13      1\n",
      "2    ALB    63      8      0\n",
      "3    ALG   539     13     17\n",
      "4    AND    53     11      0\n",
      "..   ...   ...    ...    ...\n",
      "225  YEM    32      7      0\n",
      "226  YMD     5      1      0\n",
      "227  YUG  2046     16    383\n",
      "228  ZAM   183     13      2\n",
      "229  ZIM   309     13     22\n",
      "\n",
      "[230 rows x 4 columns]\n"
     ]
    }
   ],
   "source": [
    "pays_participants = df[[\"ID\", \"Games\", \"Medal\", \"NOC\", \"Season\"]]\n",
    "summer_pays_participants = pays_participants[pays_participants.Season==\"Summer\"]\n",
    "winter_pays_participants = pays_participants[pays_participants.Season==\"Winter\"]\n",
    "summer_pays_participants = summer_pays_participants.groupby(\"NOC\", as_index = False).agg({\"ID\": \"count\", \"Games\": pd.Series.nunique, \"Medal\" : \"count\"})\n",
    "winter_pays_participants = winter_pays_participants.groupby(\"NOC\", as_index = False).agg({\"ID\": \"count\", \"Games\": pd.Series.nunique, \"Medal\" : \"count\"})\n",
    "print(summer_pays_participants)"
   ]
  },
  {
   "cell_type": "code",
   "execution_count": 160,
   "id": "6fdb8248-1e1c-4e87-8060-04e2956b247a",
   "metadata": {},
   "outputs": [
    {
     "data": {
      "image/png": "[encoded data removed]",
      "text/plain": [
       "<Figure size 432x288 with 1 Axes>"
      ]
     },
     "metadata": {
      "needs_background": "light"
     },
     "output_type": "display_data"
    }
   ],
   "source": [
    "ax = sns.scatterplot(x=\"ID\", y=\"Medal\", size=\"Games\", hue=\"NOC\", data=summer_pays_participants)\n",
    "ax.legend_.remove()\n",
    "for line in range(0,summer_pays_participants.shape[0]):\n",
    "     ax.text(summer_pays_participants.ID.iloc[line], summer_pays_participants.Medal.iloc[line], \"  \"+summer_pays_participants.NOC.iloc[line]+\" \"+str(summer_pays_participants.Games.iloc[line]), horizontalalignment='left', size='small', color='black', weight='medium')"
   ]
  },
  {
   "cell_type": "code",
   "execution_count": 159,
   "id": "f671640b-da2b-4f47-ab55-31e626283427",
   "metadata": {},
   "outputs": [
    {
     "data": {
      "image/png": "[encoded data removed]",
      "text/plain": [
       "<Figure size 432x288 with 1 Axes>"
      ]
     },
     "metadata": {
      "needs_background": "light"
     },
     "output_type": "display_data"
    }
   ],
   "source": [
    "ax = sns.scatterplot(x=\"ID\", y=\"Medal\", size=\"Games\", hue=\"NOC\", data=winter_pays_participants)\n",
    "ax.legend_.remove()\n",
    "for line in range(0,winter_pays_participants.shape[0]):\n",
    "     ax.text(winter_pays_participants.ID.iloc[line], winter_pays_participants.Medal.iloc[line], \"  \"+winter_pays_participants.NOC.iloc[line]+\" \"+str(winter_pays_participants.Games.iloc[line]), horizontalalignment='left', size='small', color='black', weight='medium')"
   ]
  },
  {
   "cell_type": "code",
   "execution_count": null,
   "id": "59b906a6-0bb3-42f9-836c-f1f0bb844ea4",
   "metadata": {},
   "outputs": [],
   "source": []
  },
  {
   "cell_type": "code",
   "execution_count": null,
   "id": "dfbec13c-157a-4f30-a966-55fd88024fe6",
   "metadata": {},
   "outputs": [],
   "source": []
  },
  {
   "cell_type": "code",
   "execution_count": null,
   "id": "bf59643d-5026-4e7a-8367-dcfb7bfc8a6d",
   "metadata": {},
   "outputs": [],
   "source": []
  }
 ],
 "metadata": {
  "kernelspec": {
   "display_name": "Python 3 (ipykernel)",
   "language": "python",
   "name": "python3"
  },
  "language_info": {
   "codemirror_mode": {
    "name": "ipython",
    "version": 3
   },
   "file_extension": ".py",
   "mimetype": "text/x-python",
   "name": "python",
   "nbconvert_exporter": "python",
   "pygments_lexer": "ipython3",
   "version": "3.9.12"
  }
 },
 "nbformat": 4,
 "nbformat_minor": 5
}
