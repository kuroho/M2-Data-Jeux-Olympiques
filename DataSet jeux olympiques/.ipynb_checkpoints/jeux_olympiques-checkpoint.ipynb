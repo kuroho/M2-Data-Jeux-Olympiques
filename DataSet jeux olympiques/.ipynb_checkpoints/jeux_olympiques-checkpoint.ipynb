{
 "cells": [
  {
   "cell_type": "code",
   "execution_count": 2,
   "id": "ee9792b0-2938-4d9b-a6b9-ca2709420418",
   "metadata": {},
   "outputs": [
    {
     "data": {
      "text/plain": [
       "(271116, 15)"
      ]
     },
     "execution_count": 2,
     "metadata": {},
     "output_type": "execute_result"
    }
   ],
   "source": [
    "import pandas as pd\n",
    "import seaborn as sns\n",
    "import numpy as np\n",
    "\n",
    "df = pd.read_csv('athlete_events.csv')\n",
    "df.shape"
   ]
  },
  {
   "cell_type": "code",
   "execution_count": 3,
   "id": "2e20e06b-33f6-44ec-b7c9-1062136d7333",
   "metadata": {},
   "outputs": [
    {
     "data": {
      "text/plain": [
       "['ID',\n",
       " 'Name',\n",
       " 'Sex',\n",
       " 'Age',\n",
       " 'Height',\n",
       " 'Weight',\n",
       " 'Team',\n",
       " 'NOC',\n",
       " 'Games',\n",
       " 'Year',\n",
       " 'Season',\n",
       " 'City',\n",
       " 'Sport',\n",
       " 'Event',\n",
       " 'Medal']"
      ]
     },
     "execution_count": 3,
     "metadata": {},
     "output_type": "execute_result"
    }
   ],
   "source": [
    "list(df)"
   ]
  },
  {
   "cell_type": "code",
   "execution_count": 4,
   "id": "0f094132-bdc3-490a-9756-629435233a2b",
   "metadata": {},
   "outputs": [
    {
     "name": "stdout",
     "output_type": "stream",
     "text": [
      "ID: 0.0%\n",
      "Name: 0.0%\n",
      "Sex: 0.0%\n",
      "Age: 3.49444518213606%\n",
      "Height: 22.193821095029435%\n",
      "Weight: 23.19118015904631%\n",
      "Team: 0.0%\n",
      "NOC: 0.0%\n",
      "Games: 0.0%\n",
      "Year: 0.0%\n",
      "Season: 0.0%\n",
      "City: 0.0%\n",
      "Sport: 0.0%\n",
      "Event: 0.0%\n",
      "Medal: 85.3262072323286%\n"
     ]
    }
   ],
   "source": [
    "#Renvoie le pourcentage des valeurs incomplètes\n",
    "def NaN_percent(df, column_name) :\n",
    "    row_count = df[column_name].shape[0]\n",
    "    empty_values = row_count - df[column_name].count()\n",
    "    return (100.0*empty_values)/row_count\n",
    "for i in list(df):\n",
    "    print(i + \": \" + str(NaN_percent(df,i))+\"%\")"
   ]
  },
  {
   "cell_type": "code",
   "execution_count": 24,
   "id": "6ed553c1-acaf-43e3-9dc1-d2ef1003290b",
   "metadata": {},
   "outputs": [
    {
     "data": {
      "text/plain": [
       "'271116 134732 28202'"
      ]
     },
     "execution_count": 24,
     "metadata": {},
     "output_type": "execute_result"
    }
   ],
   "source": [
    "nb_rows = df.shape[0]\n",
    "nb_athlete = len(df.Name.unique())\n",
    "nb_medailles = len(df[df.Medal.fillna(\"None\") != \"None\"].Name.unique())\n",
    "\n",
    "\"{0} {1} {2}\".format(nb_rows, nb_athlete, nb_medailles)"
   ]
  },
  {
   "cell_type": "code",
   "execution_count": 25,
   "id": "c8887ccf-0a1f-4d02-8456-2d3113389df1",
   "metadata": {},
   "outputs": [
    {
     "data": {
      "text/html": [
       "<div>\n",
       "<style scoped>\n",
       "    .dataframe tbody tr th:only-of-type {\n",
       "        vertical-align: middle;\n",
       "    }\n",
       "\n",
       "    .dataframe tbody tr th {\n",
       "        vertical-align: top;\n",
       "    }\n",
       "\n",
       "    .dataframe thead th {\n",
       "        text-align: right;\n",
       "    }\n",
       "</style>\n",
       "<table border=\"1\" class=\"dataframe\">\n",
       "  <thead>\n",
       "    <tr style=\"text-align: right;\">\n",
       "      <th></th>\n",
       "      <th>Team</th>\n",
       "      <th>Medal</th>\n",
       "      <th>count</th>\n",
       "    </tr>\n",
       "  </thead>\n",
       "  <tbody>\n",
       "    <tr>\n",
       "      <th>726</th>\n",
       "      <td>United States</td>\n",
       "      <td>Gold</td>\n",
       "      <td>2474</td>\n",
       "    </tr>\n",
       "    <tr>\n",
       "      <th>727</th>\n",
       "      <td>United States</td>\n",
       "      <td>Silver</td>\n",
       "      <td>1512</td>\n",
       "    </tr>\n",
       "    <tr>\n",
       "      <th>725</th>\n",
       "      <td>United States</td>\n",
       "      <td>Bronze</td>\n",
       "      <td>1233</td>\n",
       "    </tr>\n",
       "    <tr>\n",
       "      <th>627</th>\n",
       "      <td>Soviet Union</td>\n",
       "      <td>Gold</td>\n",
       "      <td>1058</td>\n",
       "    </tr>\n",
       "    <tr>\n",
       "      <th>628</th>\n",
       "      <td>Soviet Union</td>\n",
       "      <td>Silver</td>\n",
       "      <td>716</td>\n",
       "    </tr>\n",
       "    <tr>\n",
       "      <th>263</th>\n",
       "      <td>Germany</td>\n",
       "      <td>Gold</td>\n",
       "      <td>679</td>\n",
       "    </tr>\n",
       "    <tr>\n",
       "      <th>262</th>\n",
       "      <td>Germany</td>\n",
       "      <td>Bronze</td>\n",
       "      <td>678</td>\n",
       "    </tr>\n",
       "    <tr>\n",
       "      <th>626</th>\n",
       "      <td>Soviet Union</td>\n",
       "      <td>Bronze</td>\n",
       "      <td>677</td>\n",
       "    </tr>\n",
       "    <tr>\n",
       "      <th>264</th>\n",
       "      <td>Germany</td>\n",
       "      <td>Silver</td>\n",
       "      <td>627</td>\n",
       "    </tr>\n",
       "    <tr>\n",
       "      <th>278</th>\n",
       "      <td>Great Britain</td>\n",
       "      <td>Silver</td>\n",
       "      <td>582</td>\n",
       "    </tr>\n",
       "  </tbody>\n",
       "</table>\n",
       "</div>"
      ],
      "text/plain": [
       "              Team   Medal  count\n",
       "726  United States    Gold   2474\n",
       "727  United States  Silver   1512\n",
       "725  United States  Bronze   1233\n",
       "627   Soviet Union    Gold   1058\n",
       "628   Soviet Union  Silver    716\n",
       "263        Germany    Gold    679\n",
       "262        Germany  Bronze    678\n",
       "626   Soviet Union  Bronze    677\n",
       "264        Germany  Silver    627\n",
       "278  Great Britain  Silver    582"
      ]
     },
     "execution_count": 25,
     "metadata": {},
     "output_type": "execute_result"
    }
   ],
   "source": [
    "medailles_par_equipe = df.groupby(['Team','Medal']).Medal.agg('count')\n",
    "\n",
    "#trier par quantité\n",
    "\n",
    "medailles_par_equipe = medailles_par_equipe.reset_index(name='count').sort_values(['count'], ascending=False)\n",
    "\n",
    "medailles_par_equipe.head(10) "
   ]
  },
  {
   "cell_type": "code",
   "execution_count": 26,
   "id": "c9686a03-2133-4ea9-918a-bd35f71f765d",
   "metadata": {},
   "outputs": [
    {
     "data": {
      "text/html": [
       "<div>\n",
       "<style scoped>\n",
       "    .dataframe tbody tr th:only-of-type {\n",
       "        vertical-align: middle;\n",
       "    }\n",
       "\n",
       "    .dataframe tbody tr th {\n",
       "        vertical-align: top;\n",
       "    }\n",
       "\n",
       "    .dataframe thead th {\n",
       "        text-align: right;\n",
       "    }\n",
       "</style>\n",
       "<table border=\"1\" class=\"dataframe\">\n",
       "  <thead>\n",
       "    <tr style=\"text-align: right;\">\n",
       "      <th></th>\n",
       "      <th>Team</th>\n",
       "      <th>Medal</th>\n",
       "      <th>count</th>\n",
       "    </tr>\n",
       "  </thead>\n",
       "  <tbody>\n",
       "    <tr>\n",
       "      <th>239</th>\n",
       "      <td>France</td>\n",
       "      <td>Bronze</td>\n",
       "      <td>577</td>\n",
       "    </tr>\n",
       "    <tr>\n",
       "      <th>241</th>\n",
       "      <td>France</td>\n",
       "      <td>Silver</td>\n",
       "      <td>518</td>\n",
       "    </tr>\n",
       "    <tr>\n",
       "      <th>240</th>\n",
       "      <td>France</td>\n",
       "      <td>Gold</td>\n",
       "      <td>455</td>\n",
       "    </tr>\n",
       "  </tbody>\n",
       "</table>\n",
       "</div>"
      ],
      "text/plain": [
       "       Team   Medal  count\n",
       "239  France  Bronze    577\n",
       "241  France  Silver    518\n",
       "240  France    Gold    455"
      ]
     },
     "execution_count": 26,
     "metadata": {},
     "output_type": "execute_result"
    }
   ],
   "source": [
    "def get_pays_stats(pays):\n",
    "    return medailles_par_equipe[medailles_par_equipe.Team==pays]\n",
    "\n",
    "get_pays_stats('France')"
   ]
  },
  {
   "cell_type": "code",
   "execution_count": 37,
   "id": "ebb1665e-b01d-4b50-982b-3f45e44792db",
   "metadata": {},
   "outputs": [
    {
     "name": "stdout",
     "output_type": "stream",
     "text": [
      "nombre athlètes femme : 33808\n",
      "médailles obtenues femme : 11253\n",
      "nombre athlètes homme : 100979\n",
      "médailles obtenues homme : 28530\n",
      "Depuis l'année : \n"
     ]
    },
    {
     "data": {
      "text/plain": [
       "1900"
      ]
     },
     "execution_count": 37,
     "metadata": {},
     "output_type": "execute_result"
    }
   ],
   "source": [
    "nb_femme = len(df[df.Sex==\"F\"].Name.unique())\n",
    "nb_homme = len(df[df.Sex==\"M\"].Name.unique())\n",
    "medailles_femme = df[df.Sex==\"F\"].Medal.count()\n",
    "medailles_hommes = df[df.Sex==\"M\"].Medal.count()\n",
    "\n",
    "print(\"nombre athlètes femme : {}\".format(nb_femme))\n",
    "print(\"médailles obtenues femme : {}\".format(medailles_femme))\n",
    "print(\"nombre athlètes homme : {}\".format(nb_homme))\n",
    "print(\"médailles obtenues homme : {}\".format(medailles_hommes))\n",
    "print(\"Depuis l'année : \")\n",
    "df[df.Sex==\"F\"].Year.min()"
   ]
  },
  {
   "cell_type": "code",
   "execution_count": 39,
   "id": "99ce9291-9f4c-4cab-9b73-3bc8aac358d7",
   "metadata": {},
   "outputs": [
    {
     "data": {
      "text/plain": [
       "(<AxesSubplot:xlabel='Year', ylabel='Name'>,\n",
       " <AxesSubplot:xlabel='Year', ylabel='Name'>)"
      ]
     },
     "execution_count": 39,
     "metadata": {},
     "output_type": "execute_result"
    },
    {
     "data": {
      "image/png": "[encoded data removed]",
      "text/plain": [
       "<Figure size 432x288 with 1 Axes>"
      ]
     },
     "metadata": {},
     "output_type": "display_data"
    }
   ],
   "source": [
    "nb_femme_per_year = df[df.Sex==\"F\"].groupby(\"Year\").agg(\"count\").Name\n",
    "nb_homme_per_year = df[df.Sex==\"M\"].groupby(\"Year\").agg(\"count\").Name\n",
    "(sns.scatterplot(data=nb_homme_per_year),sns.scatterplot(data=nb_femme_per_year))"
   ]
  },
  {
   "cell_type": "code",
   "execution_count": 21,
   "id": "d5050cc1-e209-4867-897d-1cf118a47842",
   "metadata": {},
   "outputs": [
    {
     "name": "stderr",
     "output_type": "stream",
     "text": [
      "C:\\Users\\jerem\\AppData\\Local\\Temp\\ipykernel_22212\\3860928401.py:2: FutureWarning: Indexing with multiple keys (implicitly converted to a tuple of keys) will be deprecated, use a list instead.\n",
      "  sport_weight_height_metrics = male_df.groupby(['Sport'])['Weight','Height'].agg(['min','max','mean'])\n"
     ]
    }
   ],
   "source": [
    "male_df = df[df.Sex=='M']\n",
    "sport_weight_height_metrics = male_df.groupby(['Sport'])['Weight','Height'].agg(['min','max','mean'])"
   ]
  },
  {
   "cell_type": "code",
   "execution_count": null,
   "id": "5a964b72-9c81-4e96-af15-31b7c967e127",
   "metadata": {},
   "outputs": [],
   "source": []
  }
 ],
 "metadata": {
  "kernelspec": {
   "display_name": "Python 3 (ipykernel)",
   "language": "python",
   "name": "python3"
  },
  "language_info": {
   "codemirror_mode": {
    "name": "ipython",
    "version": 3
   },
   "file_extension": ".py",
   "mimetype": "text/x-python",
   "name": "python",
   "nbconvert_exporter": "python",
   "pygments_lexer": "ipython3",
   "version": "3.9.12"
  }
 },
 "nbformat": 4,
 "nbformat_minor": 5
}
